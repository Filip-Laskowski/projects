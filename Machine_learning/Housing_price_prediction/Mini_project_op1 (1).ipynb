{
  "nbformat": 4,
  "nbformat_minor": 0,
  "metadata": {
    "colab": {
      "provenance": [],
      "gpuType": "T4"
    },
    "kernelspec": {
      "name": "python3",
      "display_name": "Python 3"
    },
    "language_info": {
      "name": "python"
    },
    "accelerator": "GPU"
  },
  "cells": [
    {
      "cell_type": "markdown",
      "source": [
        "#Importing the necessary libraries"
      ],
      "metadata": {
        "id": "GjR5SH3jWrXg"
      }
    },
    {
      "cell_type": "code",
      "execution_count": 3,
      "metadata": {
        "id": "aZ_AfwFwT9JM"
      },
      "outputs": [],
      "source": [
        "import pandas as pd\n",
        "import tensorflow as tf\n",
        "import matplotlib.pyplot as plt\n",
        "\n"
      ]
    },
    {
      "cell_type": "markdown",
      "source": [
        "#Loading in the training and test Data via the read_csv function imported from pandas library\n"
      ],
      "metadata": {
        "id": "2_MR7HmGWyKX"
      }
    },
    {
      "cell_type": "code",
      "source": [
        "train = pd.read_csv(\"train.csv\")\n",
        "test = pd.read_csv(\"test.csv\")"
      ],
      "metadata": {
        "id": "FGJyLhIkUKzH"
      },
      "execution_count": 4,
      "outputs": []
    },
    {
      "cell_type": "markdown",
      "source": [
        "Visualising the data that is present in train variable\n"
      ],
      "metadata": {
        "id": "54KfC0HXW_sK"
      }
    },
    {
      "cell_type": "markdown",
      "source": [
        "#Creating the table for test and train datasets describing the mean and variance and number of samples"
      ],
      "metadata": {
        "id": "Gv8uMUpayny_"
      }
    },
    {
      "cell_type": "code",
      "source": [
        "# Feature dimension\n",
        "train_dim = train.shape[1]  # Number of columns/features in training data\n",
        "test_dim = test.shape[1]    # Number of columns/features in testing data\n",
        "\n",
        "# Number of samples\n",
        "num_train_samples = train.shape[0]  # Number of rows/samples in training data\n",
        "num_test_samples = test.shape[0]    # Number of rows/samples in testing data\n",
        "\n",
        "# Mean and variance of the values in each attribute\n",
        "train_stats = train.describe().loc[['mean', 'std']]  # DataFrame containing mean and variance for each column in training data\n",
        "test_stats = test.describe().loc[['mean', 'std']]    # DataFrame containing mean and variance for each column in testing data\n",
        "\n",
        "# Creating a summary table\n",
        "summary_table = pd.DataFrame({\n",
        "    'Dataset': ['Training', 'Testing'],\n",
        "    'Feature Dimension': [train_dim, test_dim],\n",
        "    'Number of Samples': [num_train_samples, num_test_samples]\n",
        "})\n",
        "\n",
        "# Display summary table\n",
        "print(summary_table)\n",
        "\n",
        "# Display train_stats and test_stats\n",
        "print(\"\\nTraining Data Stats:\\n\", train_stats)\n",
        "print(\"\\nTesting Data Stats:\\n\", test_stats)\n",
        "\n",
        "# Save the summary_table to an Excel file\n",
        "summary_table.to_excel('/content/summary_table.xlsx', index=False)\n",
        "\n",
        "# Save all tables to different sheets in the same Excel file\n",
        "with pd.ExcelWriter('/content/all_tables.xlsx') as writer:\n",
        "    summary_table.to_excel(writer, sheet_name='Summary', index=False)\n",
        "    train_stats.to_excel(writer, sheet_name='Train_Stats')\n",
        "    test_stats.to_excel(writer, sheet_name='Test_Stats')\n"
      ],
      "metadata": {
        "colab": {
          "base_uri": "https://localhost:8080/"
        },
        "id": "0GPMjZgpUVyu",
        "outputId": "229a4664-04dc-451e-e2ab-85e4c040b1e0"
      },
      "execution_count": 5,
      "outputs": [
        {
          "output_type": "stream",
          "name": "stdout",
          "text": [
            "    Dataset  Feature Dimension  Number of Samples\n",
            "0  Training                  6               1000\n",
            "1   Testing                  5                259\n",
            "\n",
            "Training Data Stats:\n",
            "               Id  OverallQual    GrLivArea  GarageArea      SalePrice\n",
            "mean  500.500000     6.125000  1510.493000  473.350000  182284.451000\n",
            "std   288.819436     1.383217   512.296179  208.901597   80291.215207\n",
            "\n",
            "Testing Data Stats:\n",
            "                Id  OverallQual    GrLivArea  GarageArea\n",
            "mean  1331.000000     6.081081  1548.030888  475.467181\n",
            "std     74.911058     1.379947   560.911287  219.228602\n"
          ]
        }
      ]
    },
    {
      "cell_type": "markdown",
      "source": [
        "#One-hot-encoding the data in train"
      ],
      "metadata": {
        "id": "ZdV0G2j-XF6J"
      }
    },
    {
      "cell_type": "markdown",
      "source": [
        "Encoding the categorical variables for processing and dropping the Id column since it is not a necessary information for the model"
      ],
      "metadata": {
        "id": "Ol6XB1EPXUv5"
      }
    },
    {
      "cell_type": "code",
      "source": [
        "train = pd.get_dummies(train.drop(\"Id\", axis =1))\n"
      ],
      "metadata": {
        "id": "TdqvMIZPUXHd"
      },
      "execution_count": 6,
      "outputs": []
    },
    {
      "cell_type": "markdown",
      "source": [
        "#Creating the x and y axis for the data"
      ],
      "metadata": {
        "id": "CI6Ak4c2XjLU"
      }
    },
    {
      "cell_type": "code",
      "source": [
        "x_data = train.drop(\"SalePrice\", axis = 1)\n",
        "y_data = train[\"SalePrice\"]"
      ],
      "metadata": {
        "id": "T4ni4kzHU7LA"
      },
      "execution_count": 7,
      "outputs": []
    },
    {
      "cell_type": "markdown",
      "source": [
        "checking the viability of the data via visualising it in a table"
      ],
      "metadata": {
        "id": "IKUBvzDzYAwC"
      }
    },
    {
      "cell_type": "code",
      "source": [
        "x_data"
      ],
      "metadata": {
        "colab": {
          "base_uri": "https://localhost:8080/",
          "height": 424
        },
        "id": "O2LIlRRsPzYF",
        "outputId": "59812232-1c19-4d65-a74d-1ff14801cc45"
      },
      "execution_count": 8,
      "outputs": [
        {
          "output_type": "execute_result",
          "data": {
            "text/plain": [
              "     OverallQual  GrLivArea  GarageArea  BldgType_1Fam  BldgType_2FmCon  \\\n",
              "0              7       1710         548              1                0   \n",
              "1              6       1262         460              1                0   \n",
              "2              7       1786         608              1                0   \n",
              "3              7       1717         642              1                0   \n",
              "4              8       2198         836              1                0   \n",
              "..           ...        ...         ...            ...              ...   \n",
              "995            4       1230         305              1                0   \n",
              "996            5       1050         368              1                0   \n",
              "997            6       1442         615              1                0   \n",
              "998            3       1077         210              1                0   \n",
              "999            7       1208         632              1                0   \n",
              "\n",
              "     BldgType_Duplx  BldgType_TwnhsE  BldgType_TwnhsI  \n",
              "0                 0                0                0  \n",
              "1                 0                0                0  \n",
              "2                 0                0                0  \n",
              "3                 0                0                0  \n",
              "4                 0                0                0  \n",
              "..              ...              ...              ...  \n",
              "995               0                0                0  \n",
              "996               0                0                0  \n",
              "997               0                0                0  \n",
              "998               0                0                0  \n",
              "999               0                0                0  \n",
              "\n",
              "[1000 rows x 8 columns]"
            ],
            "text/html": [
              "\n",
              "\n",
              "  <div id=\"df-a5b85973-9386-42a9-9a2e-1ede9fa73775\">\n",
              "    <div class=\"colab-df-container\">\n",
              "      <div>\n",
              "<style scoped>\n",
              "    .dataframe tbody tr th:only-of-type {\n",
              "        vertical-align: middle;\n",
              "    }\n",
              "\n",
              "    .dataframe tbody tr th {\n",
              "        vertical-align: top;\n",
              "    }\n",
              "\n",
              "    .dataframe thead th {\n",
              "        text-align: right;\n",
              "    }\n",
              "</style>\n",
              "<table border=\"1\" class=\"dataframe\">\n",
              "  <thead>\n",
              "    <tr style=\"text-align: right;\">\n",
              "      <th></th>\n",
              "      <th>OverallQual</th>\n",
              "      <th>GrLivArea</th>\n",
              "      <th>GarageArea</th>\n",
              "      <th>BldgType_1Fam</th>\n",
              "      <th>BldgType_2FmCon</th>\n",
              "      <th>BldgType_Duplx</th>\n",
              "      <th>BldgType_TwnhsE</th>\n",
              "      <th>BldgType_TwnhsI</th>\n",
              "    </tr>\n",
              "  </thead>\n",
              "  <tbody>\n",
              "    <tr>\n",
              "      <th>0</th>\n",
              "      <td>7</td>\n",
              "      <td>1710</td>\n",
              "      <td>548</td>\n",
              "      <td>1</td>\n",
              "      <td>0</td>\n",
              "      <td>0</td>\n",
              "      <td>0</td>\n",
              "      <td>0</td>\n",
              "    </tr>\n",
              "    <tr>\n",
              "      <th>1</th>\n",
              "      <td>6</td>\n",
              "      <td>1262</td>\n",
              "      <td>460</td>\n",
              "      <td>1</td>\n",
              "      <td>0</td>\n",
              "      <td>0</td>\n",
              "      <td>0</td>\n",
              "      <td>0</td>\n",
              "    </tr>\n",
              "    <tr>\n",
              "      <th>2</th>\n",
              "      <td>7</td>\n",
              "      <td>1786</td>\n",
              "      <td>608</td>\n",
              "      <td>1</td>\n",
              "      <td>0</td>\n",
              "      <td>0</td>\n",
              "      <td>0</td>\n",
              "      <td>0</td>\n",
              "    </tr>\n",
              "    <tr>\n",
              "      <th>3</th>\n",
              "      <td>7</td>\n",
              "      <td>1717</td>\n",
              "      <td>642</td>\n",
              "      <td>1</td>\n",
              "      <td>0</td>\n",
              "      <td>0</td>\n",
              "      <td>0</td>\n",
              "      <td>0</td>\n",
              "    </tr>\n",
              "    <tr>\n",
              "      <th>4</th>\n",
              "      <td>8</td>\n",
              "      <td>2198</td>\n",
              "      <td>836</td>\n",
              "      <td>1</td>\n",
              "      <td>0</td>\n",
              "      <td>0</td>\n",
              "      <td>0</td>\n",
              "      <td>0</td>\n",
              "    </tr>\n",
              "    <tr>\n",
              "      <th>...</th>\n",
              "      <td>...</td>\n",
              "      <td>...</td>\n",
              "      <td>...</td>\n",
              "      <td>...</td>\n",
              "      <td>...</td>\n",
              "      <td>...</td>\n",
              "      <td>...</td>\n",
              "      <td>...</td>\n",
              "    </tr>\n",
              "    <tr>\n",
              "      <th>995</th>\n",
              "      <td>4</td>\n",
              "      <td>1230</td>\n",
              "      <td>305</td>\n",
              "      <td>1</td>\n",
              "      <td>0</td>\n",
              "      <td>0</td>\n",
              "      <td>0</td>\n",
              "      <td>0</td>\n",
              "    </tr>\n",
              "    <tr>\n",
              "      <th>996</th>\n",
              "      <td>5</td>\n",
              "      <td>1050</td>\n",
              "      <td>368</td>\n",
              "      <td>1</td>\n",
              "      <td>0</td>\n",
              "      <td>0</td>\n",
              "      <td>0</td>\n",
              "      <td>0</td>\n",
              "    </tr>\n",
              "    <tr>\n",
              "      <th>997</th>\n",
              "      <td>6</td>\n",
              "      <td>1442</td>\n",
              "      <td>615</td>\n",
              "      <td>1</td>\n",
              "      <td>0</td>\n",
              "      <td>0</td>\n",
              "      <td>0</td>\n",
              "      <td>0</td>\n",
              "    </tr>\n",
              "    <tr>\n",
              "      <th>998</th>\n",
              "      <td>3</td>\n",
              "      <td>1077</td>\n",
              "      <td>210</td>\n",
              "      <td>1</td>\n",
              "      <td>0</td>\n",
              "      <td>0</td>\n",
              "      <td>0</td>\n",
              "      <td>0</td>\n",
              "    </tr>\n",
              "    <tr>\n",
              "      <th>999</th>\n",
              "      <td>7</td>\n",
              "      <td>1208</td>\n",
              "      <td>632</td>\n",
              "      <td>1</td>\n",
              "      <td>0</td>\n",
              "      <td>0</td>\n",
              "      <td>0</td>\n",
              "      <td>0</td>\n",
              "    </tr>\n",
              "  </tbody>\n",
              "</table>\n",
              "<p>1000 rows × 8 columns</p>\n",
              "</div>\n",
              "      <button class=\"colab-df-convert\" onclick=\"convertToInteractive('df-a5b85973-9386-42a9-9a2e-1ede9fa73775')\"\n",
              "              title=\"Convert this dataframe to an interactive table.\"\n",
              "              style=\"display:none;\">\n",
              "\n",
              "  <svg xmlns=\"http://www.w3.org/2000/svg\" height=\"24px\"viewBox=\"0 0 24 24\"\n",
              "       width=\"24px\">\n",
              "    <path d=\"M0 0h24v24H0V0z\" fill=\"none\"/>\n",
              "    <path d=\"M18.56 5.44l.94 2.06.94-2.06 2.06-.94-2.06-.94-.94-2.06-.94 2.06-2.06.94zm-11 1L8.5 8.5l.94-2.06 2.06-.94-2.06-.94L8.5 2.5l-.94 2.06-2.06.94zm10 10l.94 2.06.94-2.06 2.06-.94-2.06-.94-.94-2.06-.94 2.06-2.06.94z\"/><path d=\"M17.41 7.96l-1.37-1.37c-.4-.4-.92-.59-1.43-.59-.52 0-1.04.2-1.43.59L10.3 9.45l-7.72 7.72c-.78.78-.78 2.05 0 2.83L4 21.41c.39.39.9.59 1.41.59.51 0 1.02-.2 1.41-.59l7.78-7.78 2.81-2.81c.8-.78.8-2.07 0-2.86zM5.41 20L4 18.59l7.72-7.72 1.47 1.35L5.41 20z\"/>\n",
              "  </svg>\n",
              "      </button>\n",
              "\n",
              "\n",
              "\n",
              "    <div id=\"df-58c93345-a904-4a02-99ba-b2ee57b4a6f0\">\n",
              "      <button class=\"colab-df-quickchart\" onclick=\"quickchart('df-58c93345-a904-4a02-99ba-b2ee57b4a6f0')\"\n",
              "              title=\"Suggest charts.\"\n",
              "              style=\"display:none;\">\n",
              "\n",
              "<svg xmlns=\"http://www.w3.org/2000/svg\" height=\"24px\"viewBox=\"0 0 24 24\"\n",
              "     width=\"24px\">\n",
              "    <g>\n",
              "        <path d=\"M19 3H5c-1.1 0-2 .9-2 2v14c0 1.1.9 2 2 2h14c1.1 0 2-.9 2-2V5c0-1.1-.9-2-2-2zM9 17H7v-7h2v7zm4 0h-2V7h2v10zm4 0h-2v-4h2v4z\"/>\n",
              "    </g>\n",
              "</svg>\n",
              "      </button>\n",
              "    </div>\n",
              "\n",
              "<style>\n",
              "  .colab-df-quickchart {\n",
              "    background-color: #E8F0FE;\n",
              "    border: none;\n",
              "    border-radius: 50%;\n",
              "    cursor: pointer;\n",
              "    display: none;\n",
              "    fill: #1967D2;\n",
              "    height: 32px;\n",
              "    padding: 0 0 0 0;\n",
              "    width: 32px;\n",
              "  }\n",
              "\n",
              "  .colab-df-quickchart:hover {\n",
              "    background-color: #E2EBFA;\n",
              "    box-shadow: 0px 1px 2px rgba(60, 64, 67, 0.3), 0px 1px 3px 1px rgba(60, 64, 67, 0.15);\n",
              "    fill: #174EA6;\n",
              "  }\n",
              "\n",
              "  [theme=dark] .colab-df-quickchart {\n",
              "    background-color: #3B4455;\n",
              "    fill: #D2E3FC;\n",
              "  }\n",
              "\n",
              "  [theme=dark] .colab-df-quickchart:hover {\n",
              "    background-color: #434B5C;\n",
              "    box-shadow: 0px 1px 3px 1px rgba(0, 0, 0, 0.15);\n",
              "    filter: drop-shadow(0px 1px 2px rgba(0, 0, 0, 0.3));\n",
              "    fill: #FFFFFF;\n",
              "  }\n",
              "</style>\n",
              "\n",
              "    <script>\n",
              "      async function quickchart(key) {\n",
              "        const containerElement = document.querySelector('#' + key);\n",
              "        const charts = await google.colab.kernel.invokeFunction(\n",
              "            'suggestCharts', [key], {});\n",
              "      }\n",
              "    </script>\n",
              "\n",
              "      <script>\n",
              "\n",
              "function displayQuickchartButton(domScope) {\n",
              "  let quickchartButtonEl =\n",
              "    domScope.querySelector('#df-58c93345-a904-4a02-99ba-b2ee57b4a6f0 button.colab-df-quickchart');\n",
              "  quickchartButtonEl.style.display =\n",
              "    google.colab.kernel.accessAllowed ? 'block' : 'none';\n",
              "}\n",
              "\n",
              "        displayQuickchartButton(document);\n",
              "      </script>\n",
              "      <style>\n",
              "    .colab-df-container {\n",
              "      display:flex;\n",
              "      flex-wrap:wrap;\n",
              "      gap: 12px;\n",
              "    }\n",
              "\n",
              "    .colab-df-convert {\n",
              "      background-color: #E8F0FE;\n",
              "      border: none;\n",
              "      border-radius: 50%;\n",
              "      cursor: pointer;\n",
              "      display: none;\n",
              "      fill: #1967D2;\n",
              "      height: 32px;\n",
              "      padding: 0 0 0 0;\n",
              "      width: 32px;\n",
              "    }\n",
              "\n",
              "    .colab-df-convert:hover {\n",
              "      background-color: #E2EBFA;\n",
              "      box-shadow: 0px 1px 2px rgba(60, 64, 67, 0.3), 0px 1px 3px 1px rgba(60, 64, 67, 0.15);\n",
              "      fill: #174EA6;\n",
              "    }\n",
              "\n",
              "    [theme=dark] .colab-df-convert {\n",
              "      background-color: #3B4455;\n",
              "      fill: #D2E3FC;\n",
              "    }\n",
              "\n",
              "    [theme=dark] .colab-df-convert:hover {\n",
              "      background-color: #434B5C;\n",
              "      box-shadow: 0px 1px 3px 1px rgba(0, 0, 0, 0.15);\n",
              "      filter: drop-shadow(0px 1px 2px rgba(0, 0, 0, 0.3));\n",
              "      fill: #FFFFFF;\n",
              "    }\n",
              "  </style>\n",
              "\n",
              "      <script>\n",
              "        const buttonEl =\n",
              "          document.querySelector('#df-a5b85973-9386-42a9-9a2e-1ede9fa73775 button.colab-df-convert');\n",
              "        buttonEl.style.display =\n",
              "          google.colab.kernel.accessAllowed ? 'block' : 'none';\n",
              "\n",
              "        async function convertToInteractive(key) {\n",
              "          const element = document.querySelector('#df-a5b85973-9386-42a9-9a2e-1ede9fa73775');\n",
              "          const dataTable =\n",
              "            await google.colab.kernel.invokeFunction('convertToInteractive',\n",
              "                                                     [key], {});\n",
              "          if (!dataTable) return;\n",
              "\n",
              "          const docLinkHtml = 'Like what you see? Visit the ' +\n",
              "            '<a target=\"_blank\" href=https://colab.research.google.com/notebooks/data_table.ipynb>data table notebook</a>'\n",
              "            + ' to learn more about interactive tables.';\n",
              "          element.innerHTML = '';\n",
              "          dataTable['output_type'] = 'display_data';\n",
              "          await google.colab.output.renderOutput(dataTable, element);\n",
              "          const docLink = document.createElement('div');\n",
              "          docLink.innerHTML = docLinkHtml;\n",
              "          element.appendChild(docLink);\n",
              "        }\n",
              "      </script>\n",
              "    </div>\n",
              "  </div>\n"
            ]
          },
          "metadata": {},
          "execution_count": 8
        }
      ]
    },
    {
      "cell_type": "code",
      "source": [
        "# Create training and test sets\n",
        "from sklearn.model_selection import train_test_split\n",
        "x_train, x_test, y_train, y_test = train_test_split(x_data,\n",
        "                                                    y_data,\n",
        "                                                    test_size=0.1,\n",
        "                                                    random_state=42) # set random state for reproducible splits"
      ],
      "metadata": {
        "id": "sdHLNY33UdCr"
      },
      "execution_count": 9,
      "outputs": []
    },
    {
      "cell_type": "code",
      "source": [
        "x_train.head()"
      ],
      "metadata": {
        "colab": {
          "base_uri": "https://localhost:8080/",
          "height": 206
        },
        "id": "9KyPpd1aP3F7",
        "outputId": "c1b4e697-7a1c-4d3c-8a3a-8755c0b95670"
      },
      "execution_count": 10,
      "outputs": [
        {
          "output_type": "execute_result",
          "data": {
            "text/plain": [
              "     OverallQual  GrLivArea  GarageArea  BldgType_1Fam  BldgType_2FmCon  \\\n",
              "716            7       2554         704              1                0   \n",
              "351            7       1453         445              1                0   \n",
              "936            7       1200         555              1                0   \n",
              "256            6       1728         673              1                0   \n",
              "635            6       3395           0              0                1   \n",
              "\n",
              "     BldgType_Duplx  BldgType_TwnhsE  BldgType_TwnhsI  \n",
              "716               0                0                0  \n",
              "351               0                0                0  \n",
              "936               0                0                0  \n",
              "256               0                0                0  \n",
              "635               0                0                0  "
            ],
            "text/html": [
              "\n",
              "\n",
              "  <div id=\"df-02ae625f-b239-4814-b413-4c11617699bc\">\n",
              "    <div class=\"colab-df-container\">\n",
              "      <div>\n",
              "<style scoped>\n",
              "    .dataframe tbody tr th:only-of-type {\n",
              "        vertical-align: middle;\n",
              "    }\n",
              "\n",
              "    .dataframe tbody tr th {\n",
              "        vertical-align: top;\n",
              "    }\n",
              "\n",
              "    .dataframe thead th {\n",
              "        text-align: right;\n",
              "    }\n",
              "</style>\n",
              "<table border=\"1\" class=\"dataframe\">\n",
              "  <thead>\n",
              "    <tr style=\"text-align: right;\">\n",
              "      <th></th>\n",
              "      <th>OverallQual</th>\n",
              "      <th>GrLivArea</th>\n",
              "      <th>GarageArea</th>\n",
              "      <th>BldgType_1Fam</th>\n",
              "      <th>BldgType_2FmCon</th>\n",
              "      <th>BldgType_Duplx</th>\n",
              "      <th>BldgType_TwnhsE</th>\n",
              "      <th>BldgType_TwnhsI</th>\n",
              "    </tr>\n",
              "  </thead>\n",
              "  <tbody>\n",
              "    <tr>\n",
              "      <th>716</th>\n",
              "      <td>7</td>\n",
              "      <td>2554</td>\n",
              "      <td>704</td>\n",
              "      <td>1</td>\n",
              "      <td>0</td>\n",
              "      <td>0</td>\n",
              "      <td>0</td>\n",
              "      <td>0</td>\n",
              "    </tr>\n",
              "    <tr>\n",
              "      <th>351</th>\n",
              "      <td>7</td>\n",
              "      <td>1453</td>\n",
              "      <td>445</td>\n",
              "      <td>1</td>\n",
              "      <td>0</td>\n",
              "      <td>0</td>\n",
              "      <td>0</td>\n",
              "      <td>0</td>\n",
              "    </tr>\n",
              "    <tr>\n",
              "      <th>936</th>\n",
              "      <td>7</td>\n",
              "      <td>1200</td>\n",
              "      <td>555</td>\n",
              "      <td>1</td>\n",
              "      <td>0</td>\n",
              "      <td>0</td>\n",
              "      <td>0</td>\n",
              "      <td>0</td>\n",
              "    </tr>\n",
              "    <tr>\n",
              "      <th>256</th>\n",
              "      <td>6</td>\n",
              "      <td>1728</td>\n",
              "      <td>673</td>\n",
              "      <td>1</td>\n",
              "      <td>0</td>\n",
              "      <td>0</td>\n",
              "      <td>0</td>\n",
              "      <td>0</td>\n",
              "    </tr>\n",
              "    <tr>\n",
              "      <th>635</th>\n",
              "      <td>6</td>\n",
              "      <td>3395</td>\n",
              "      <td>0</td>\n",
              "      <td>0</td>\n",
              "      <td>1</td>\n",
              "      <td>0</td>\n",
              "      <td>0</td>\n",
              "      <td>0</td>\n",
              "    </tr>\n",
              "  </tbody>\n",
              "</table>\n",
              "</div>\n",
              "      <button class=\"colab-df-convert\" onclick=\"convertToInteractive('df-02ae625f-b239-4814-b413-4c11617699bc')\"\n",
              "              title=\"Convert this dataframe to an interactive table.\"\n",
              "              style=\"display:none;\">\n",
              "\n",
              "  <svg xmlns=\"http://www.w3.org/2000/svg\" height=\"24px\"viewBox=\"0 0 24 24\"\n",
              "       width=\"24px\">\n",
              "    <path d=\"M0 0h24v24H0V0z\" fill=\"none\"/>\n",
              "    <path d=\"M18.56 5.44l.94 2.06.94-2.06 2.06-.94-2.06-.94-.94-2.06-.94 2.06-2.06.94zm-11 1L8.5 8.5l.94-2.06 2.06-.94-2.06-.94L8.5 2.5l-.94 2.06-2.06.94zm10 10l.94 2.06.94-2.06 2.06-.94-2.06-.94-.94-2.06-.94 2.06-2.06.94z\"/><path d=\"M17.41 7.96l-1.37-1.37c-.4-.4-.92-.59-1.43-.59-.52 0-1.04.2-1.43.59L10.3 9.45l-7.72 7.72c-.78.78-.78 2.05 0 2.83L4 21.41c.39.39.9.59 1.41.59.51 0 1.02-.2 1.41-.59l7.78-7.78 2.81-2.81c.8-.78.8-2.07 0-2.86zM5.41 20L4 18.59l7.72-7.72 1.47 1.35L5.41 20z\"/>\n",
              "  </svg>\n",
              "      </button>\n",
              "\n",
              "\n",
              "\n",
              "    <div id=\"df-e7201de4-0d11-46a3-b141-d5033015fdcc\">\n",
              "      <button class=\"colab-df-quickchart\" onclick=\"quickchart('df-e7201de4-0d11-46a3-b141-d5033015fdcc')\"\n",
              "              title=\"Suggest charts.\"\n",
              "              style=\"display:none;\">\n",
              "\n",
              "<svg xmlns=\"http://www.w3.org/2000/svg\" height=\"24px\"viewBox=\"0 0 24 24\"\n",
              "     width=\"24px\">\n",
              "    <g>\n",
              "        <path d=\"M19 3H5c-1.1 0-2 .9-2 2v14c0 1.1.9 2 2 2h14c1.1 0 2-.9 2-2V5c0-1.1-.9-2-2-2zM9 17H7v-7h2v7zm4 0h-2V7h2v10zm4 0h-2v-4h2v4z\"/>\n",
              "    </g>\n",
              "</svg>\n",
              "      </button>\n",
              "    </div>\n",
              "\n",
              "<style>\n",
              "  .colab-df-quickchart {\n",
              "    background-color: #E8F0FE;\n",
              "    border: none;\n",
              "    border-radius: 50%;\n",
              "    cursor: pointer;\n",
              "    display: none;\n",
              "    fill: #1967D2;\n",
              "    height: 32px;\n",
              "    padding: 0 0 0 0;\n",
              "    width: 32px;\n",
              "  }\n",
              "\n",
              "  .colab-df-quickchart:hover {\n",
              "    background-color: #E2EBFA;\n",
              "    box-shadow: 0px 1px 2px rgba(60, 64, 67, 0.3), 0px 1px 3px 1px rgba(60, 64, 67, 0.15);\n",
              "    fill: #174EA6;\n",
              "  }\n",
              "\n",
              "  [theme=dark] .colab-df-quickchart {\n",
              "    background-color: #3B4455;\n",
              "    fill: #D2E3FC;\n",
              "  }\n",
              "\n",
              "  [theme=dark] .colab-df-quickchart:hover {\n",
              "    background-color: #434B5C;\n",
              "    box-shadow: 0px 1px 3px 1px rgba(0, 0, 0, 0.15);\n",
              "    filter: drop-shadow(0px 1px 2px rgba(0, 0, 0, 0.3));\n",
              "    fill: #FFFFFF;\n",
              "  }\n",
              "</style>\n",
              "\n",
              "    <script>\n",
              "      async function quickchart(key) {\n",
              "        const containerElement = document.querySelector('#' + key);\n",
              "        const charts = await google.colab.kernel.invokeFunction(\n",
              "            'suggestCharts', [key], {});\n",
              "      }\n",
              "    </script>\n",
              "\n",
              "      <script>\n",
              "\n",
              "function displayQuickchartButton(domScope) {\n",
              "  let quickchartButtonEl =\n",
              "    domScope.querySelector('#df-e7201de4-0d11-46a3-b141-d5033015fdcc button.colab-df-quickchart');\n",
              "  quickchartButtonEl.style.display =\n",
              "    google.colab.kernel.accessAllowed ? 'block' : 'none';\n",
              "}\n",
              "\n",
              "        displayQuickchartButton(document);\n",
              "      </script>\n",
              "      <style>\n",
              "    .colab-df-container {\n",
              "      display:flex;\n",
              "      flex-wrap:wrap;\n",
              "      gap: 12px;\n",
              "    }\n",
              "\n",
              "    .colab-df-convert {\n",
              "      background-color: #E8F0FE;\n",
              "      border: none;\n",
              "      border-radius: 50%;\n",
              "      cursor: pointer;\n",
              "      display: none;\n",
              "      fill: #1967D2;\n",
              "      height: 32px;\n",
              "      padding: 0 0 0 0;\n",
              "      width: 32px;\n",
              "    }\n",
              "\n",
              "    .colab-df-convert:hover {\n",
              "      background-color: #E2EBFA;\n",
              "      box-shadow: 0px 1px 2px rgba(60, 64, 67, 0.3), 0px 1px 3px 1px rgba(60, 64, 67, 0.15);\n",
              "      fill: #174EA6;\n",
              "    }\n",
              "\n",
              "    [theme=dark] .colab-df-convert {\n",
              "      background-color: #3B4455;\n",
              "      fill: #D2E3FC;\n",
              "    }\n",
              "\n",
              "    [theme=dark] .colab-df-convert:hover {\n",
              "      background-color: #434B5C;\n",
              "      box-shadow: 0px 1px 3px 1px rgba(0, 0, 0, 0.15);\n",
              "      filter: drop-shadow(0px 1px 2px rgba(0, 0, 0, 0.3));\n",
              "      fill: #FFFFFF;\n",
              "    }\n",
              "  </style>\n",
              "\n",
              "      <script>\n",
              "        const buttonEl =\n",
              "          document.querySelector('#df-02ae625f-b239-4814-b413-4c11617699bc button.colab-df-convert');\n",
              "        buttonEl.style.display =\n",
              "          google.colab.kernel.accessAllowed ? 'block' : 'none';\n",
              "\n",
              "        async function convertToInteractive(key) {\n",
              "          const element = document.querySelector('#df-02ae625f-b239-4814-b413-4c11617699bc');\n",
              "          const dataTable =\n",
              "            await google.colab.kernel.invokeFunction('convertToInteractive',\n",
              "                                                     [key], {});\n",
              "          if (!dataTable) return;\n",
              "\n",
              "          const docLinkHtml = 'Like what you see? Visit the ' +\n",
              "            '<a target=\"_blank\" href=https://colab.research.google.com/notebooks/data_table.ipynb>data table notebook</a>'\n",
              "            + ' to learn more about interactive tables.';\n",
              "          element.innerHTML = '';\n",
              "          dataTable['output_type'] = 'display_data';\n",
              "          await google.colab.output.renderOutput(dataTable, element);\n",
              "          const docLink = document.createElement('div');\n",
              "          docLink.innerHTML = docLinkHtml;\n",
              "          element.appendChild(docLink);\n",
              "        }\n",
              "      </script>\n",
              "    </div>\n",
              "  </div>\n"
            ]
          },
          "metadata": {},
          "execution_count": 10
        }
      ]
    },
    {
      "cell_type": "markdown",
      "source": [
        "# Visualising the correlation between the SalesPrice and the input information for the data"
      ],
      "metadata": {
        "id": "Z1R0Z0tJZYNN"
      }
    },
    {
      "cell_type": "code",
      "source": [
        "correlation_matrix = train.corr()\n",
        "print(correlation_matrix['SalePrice'].sort_values(ascending=False))\n"
      ],
      "metadata": {
        "colab": {
          "base_uri": "https://localhost:8080/"
        },
        "id": "FnIlsvWvYhbZ",
        "outputId": "7abb0fa7-b379-4189-ddc9-e2bf314514a7"
      },
      "execution_count": 11,
      "outputs": [
        {
          "output_type": "stream",
          "name": "stdout",
          "text": [
            "SalePrice          1.000000\n",
            "OverallQual        0.797666\n",
            "GrLivArea          0.734997\n",
            "GarageArea         0.647953\n",
            "BldgType_1Fam      0.141148\n",
            "BldgType_TwnhsE    0.007639\n",
            "BldgType_2FmCon   -0.100719\n",
            "BldgType_TwnhsI   -0.106897\n",
            "BldgType_Duplx    -0.113322\n",
            "Name: SalePrice, dtype: float64\n"
          ]
        }
      ]
    },
    {
      "cell_type": "markdown",
      "source": [
        "# Creating the scaled data to occupy values from 0-1"
      ],
      "metadata": {
        "id": "Fr57RHc_YnjV"
      }
    },
    {
      "cell_type": "markdown",
      "source": [
        "This usually improves the performance of the model, making its predictions way better"
      ],
      "metadata": {
        "id": "XXyNUt9zYr_c"
      }
    },
    {
      "cell_type": "code",
      "source": [
        "# Creating the rescaled data to be in between 0-1\n",
        "\n",
        "# Scale your input data\n",
        "from sklearn.preprocessing import StandardScaler\n",
        "scaler = StandardScaler()\n",
        "x_train_scaled = scaler.fit_transform(x_train)\n",
        "x_test_scaled = scaler.fit_transform(x_test)"
      ],
      "metadata": {
        "id": "0poo-RisUDqF"
      },
      "execution_count": 12,
      "outputs": []
    },
    {
      "cell_type": "markdown",
      "source": [
        "#Training the first model using 1000 epochs and a small learning rate"
      ],
      "metadata": {
        "id": "-YZsCV6YZmd0"
      }
    },
    {
      "cell_type": "markdown",
      "source": [
        "Fitting the model over not normalised data<br>\n",
        "using the \"Mean Average Error\" as a loss metric,<br>adding a Adam optimizer with the learning_rate of 0.00003<br>\n",
        "<br>\n",
        "using the x_test and y_test arrays as the validation data to check how well the model generalises the predictions when fed the new information it has not seen before\n",
        "\n",
        "\n"
      ],
      "metadata": {
        "id": "vzjNjcPlZrbT"
      }
    },
    {
      "cell_type": "code",
      "source": [
        "model_1 = tf.keras.Sequential([\n",
        "    tf.keras.layers.Dense(8),\n",
        "    tf.keras.layers.Dense(10),\n",
        "    tf.keras.layers.Dense(10),\n",
        "    tf.keras.layers.Dense(10),\n",
        "    tf.keras.layers.Dense(1)\n",
        "])\n",
        "\n",
        "model_1.compile(loss = tf.keras.losses.mae,\n",
        "                optimizer = tf.keras.optimizers.Adam(learning_rate = 0.00003),\n",
        "                metrics = ['mae'])\n",
        "\n",
        "history_model_1 = model_1.fit(x_train,y_train, epochs = 1000, verbose =0, validation_data = (x_test,y_test))"
      ],
      "metadata": {
        "id": "VvocQPZ5VXWd"
      },
      "execution_count": 13,
      "outputs": []
    },
    {
      "cell_type": "markdown",
      "source": [
        "#Visualising the correlation between the training prediction accuracy and validation prediction accuracy\n"
      ],
      "metadata": {
        "id": "xR21Gcv1bEV4"
      }
    },
    {
      "cell_type": "code",
      "source": [
        "import matplotlib.pyplot as plt\n",
        "import pandas as pd\n",
        "\n",
        "# Create a figure\n",
        "plt.figure(figsize=(10,5))\n",
        "\n",
        "# Plot training accuracy\n",
        "plt.plot(history_model_1.history['mae'])\n",
        "# Plot validation accuracy\n",
        "plt.plot(history_model_1.history['val_mae'])\n",
        "\n",
        "# Set title and labels\n",
        "plt.title('Model accuracy')\n",
        "plt.ylabel('Accuracy')\n",
        "plt.xlabel('Epoch')\n",
        "plt.legend(['Train', 'Validation'], loc='upper left')\n",
        "\n",
        "# Show the plot\n",
        "plt.show()\n"
      ],
      "metadata": {
        "colab": {
          "base_uri": "https://localhost:8080/",
          "height": 487
        },
        "id": "tUWtLNZcWIMu",
        "outputId": "345d767e-2eb6-4c85-a416-3a57e3c13406"
      },
      "execution_count": 14,
      "outputs": [
        {
          "output_type": "display_data",
          "data": {
            "text/plain": [
              "<Figure size 1000x500 with 1 Axes>"
            ],
            "image/png": "[encoded data removed]"
          },
          "metadata": {}
        }
      ]
    },
    {
      "cell_type": "markdown",
      "source": [
        "#Checking on which epoch the model achieves its lowest validation_loss"
      ],
      "metadata": {
        "id": "Hbv6PKZ_bMwn"
      }
    },
    {
      "cell_type": "code",
      "source": [
        "import numpy as np\n",
        "\n",
        "# Get the list of validation losses\n",
        "val_losses = history_model_1.history['val_loss']\n",
        "\n",
        "# Find the epoch with the lowest validation loss\n",
        "min_loss_epoch = np.argmin(val_losses)\n",
        "\n",
        "print(\"The epoch with the lowest validation loss is epoch\", min_loss_epoch + 1)\n"
      ],
      "metadata": {
        "colab": {
          "base_uri": "https://localhost:8080/"
        },
        "id": "wznCdyq-ZBYX",
        "outputId": "ca3d1c34-29bb-4dd1-e1ec-bdf7f2a1a656"
      },
      "execution_count": 15,
      "outputs": [
        {
          "output_type": "stream",
          "name": "stdout",
          "text": [
            "The epoch with the lowest validation loss is epoch 993\n"
          ]
        }
      ]
    },
    {
      "cell_type": "code",
      "source": [
        "model_1_train_performance = model_1.evaluate(x_train,y_train)[0]"
      ],
      "metadata": {
        "colab": {
          "base_uri": "https://localhost:8080/"
        },
        "id": "zXoW0a80cgkv",
        "outputId": "aca15cee-42f6-446a-92bf-71a040c972be"
      },
      "execution_count": 16,
      "outputs": [
        {
          "output_type": "stream",
          "name": "stdout",
          "text": [
            "29/29 [==============================] - 0s 3ms/step - loss: 32157.0117 - mae: 32157.0117\n"
          ]
        }
      ]
    },
    {
      "cell_type": "code",
      "source": [
        "model_1_test_performance = model_1.evaluate(x_test,y_test)[0]"
      ],
      "metadata": {
        "colab": {
          "base_uri": "https://localhost:8080/"
        },
        "id": "U7WkWl2eXQtz",
        "outputId": "28bcc700-03fa-4173-bf6b-9352b6b2bf2e"
      },
      "execution_count": 17,
      "outputs": [
        {
          "output_type": "stream",
          "name": "stdout",
          "text": [
            "4/4 [==============================] - 0s 4ms/step - loss: 32013.4277 - mae: 32013.4277\n"
          ]
        }
      ]
    },
    {
      "cell_type": "markdown",
      "source": [
        "#Creating the second model however this time using the scaled data 0-1"
      ],
      "metadata": {
        "id": "fYPgFYk-bYyv"
      }
    },
    {
      "cell_type": "markdown",
      "source": [
        "Using the linear activation to check how the model will behave"
      ],
      "metadata": {
        "id": "rCSAG81Zbwk7"
      }
    },
    {
      "cell_type": "code",
      "source": [
        "model_2 = tf.keras.Sequential([\n",
        "    tf.keras.layers.Dense(8, activation = \"linear\"),\n",
        "    tf.keras.layers.Dense(100, activation = \"linear\"),\n",
        "    tf.keras.layers.Dense(100, activation = \"linear\"),\n",
        "    tf.keras.layers.Dense(1)\n",
        "])\n",
        "\n",
        "model_2.compile(loss = tf.keras.losses.mae,\n",
        "                optimizer = tf.keras.optimizers.Adam(learning_rate = 0.001),\n",
        "                metrics = ['mae'])\n",
        "\n",
        "history_model_2 = model_2.fit(x_train_scaled,y_train, epochs = 100, verbose = 0, validation_data = (x_test_scaled, y_test))"
      ],
      "metadata": {
        "id": "T6GZK6EJaZb-"
      },
      "execution_count": 18,
      "outputs": []
    },
    {
      "cell_type": "code",
      "source": [
        "# Create a figure\n",
        "plt.figure(figsize=(10,5))\n",
        "\n",
        "# Plot training accuracy\n",
        "plt.plot(history_model_2.history['mae'])\n",
        "# Plot validation accuracy\n",
        "plt.plot(history_model_2.history['val_mae'])\n",
        "\n",
        "# Set title and labels\n",
        "plt.title('Model accuracy')\n",
        "plt.ylabel('Accuracy')\n",
        "plt.xlabel('Epoch')\n",
        "plt.legend(['Train', 'Validation'], loc='upper left')\n",
        "\n",
        "# Show the plot\n",
        "plt.show()\n"
      ],
      "metadata": {
        "colab": {
          "base_uri": "https://localhost:8080/",
          "height": 487
        },
        "id": "FHZDzLA8a8oI",
        "outputId": "c5155419-5c1a-448e-b3eb-e15f0f3b1410"
      },
      "execution_count": 19,
      "outputs": [
        {
          "output_type": "display_data",
          "data": {
            "text/plain": [
              "<Figure size 1000x500 with 1 Axes>"
            ],
            "image/png": "[encoded data removed]"
          },
          "metadata": {}
        }
      ]
    },
    {
      "cell_type": "markdown",
      "source": [
        "#Evaluating the models performance on training and test data"
      ],
      "metadata": {
        "id": "-Ziti3nob1b4"
      }
    },
    {
      "cell_type": "code",
      "source": [
        "# Get the list of validation losses\n",
        "val_losses = history_model_2.history['val_loss']\n",
        "\n",
        "# Find the epoch with the lowest validation loss\n",
        "min_loss_epoch = np.argmin(val_losses)\n",
        "\n",
        "print(\"The epoch with the lowest validation loss is epoch\", min_loss_epoch + 1)"
      ],
      "metadata": {
        "colab": {
          "base_uri": "https://localhost:8080/"
        },
        "id": "xiXGSwsTAjuV",
        "outputId": "9e548725-2790-4d02-bffb-fccc60e9a10a"
      },
      "execution_count": 20,
      "outputs": [
        {
          "output_type": "stream",
          "name": "stdout",
          "text": [
            "The epoch with the lowest validation loss is epoch 20\n"
          ]
        }
      ]
    },
    {
      "cell_type": "code",
      "source": [
        "model_2_test_performance = model_2.evaluate(x_test_scaled,y_test)[0]"
      ],
      "metadata": {
        "id": "OrfcIJo6bRBw",
        "colab": {
          "base_uri": "https://localhost:8080/"
        },
        "outputId": "139cd02c-5896-4941-9caf-949b50ca78c6"
      },
      "execution_count": 21,
      "outputs": [
        {
          "output_type": "stream",
          "name": "stdout",
          "text": [
            "4/4 [==============================] - 0s 4ms/step - loss: 28548.1875 - mae: 28548.1875\n"
          ]
        }
      ]
    },
    {
      "cell_type": "code",
      "source": [
        "model_2_train_performance = model_2.evaluate(x_train_scaled,y_train)[0]"
      ],
      "metadata": {
        "colab": {
          "base_uri": "https://localhost:8080/"
        },
        "id": "M4DXoG2y9gMs",
        "outputId": "6178912b-570f-4605-af6b-35a797a31284"
      },
      "execution_count": 22,
      "outputs": [
        {
          "output_type": "stream",
          "name": "stdout",
          "text": [
            "29/29 [==============================] - 0s 3ms/step - loss: 25756.2070 - mae: 25756.2070\n"
          ]
        }
      ]
    },
    {
      "cell_type": "markdown",
      "source": [
        "#Creating a third model to check the performance for relu activation and a different network structure"
      ],
      "metadata": {
        "id": "duIQRSo_bkVi"
      }
    },
    {
      "cell_type": "code",
      "source": [
        "import numpy as np\n",
        "model_3 = tf.keras.Sequential([\n",
        "    tf.keras.layers.Dense(8, activation='relu'),\n",
        "    tf.keras.layers.Dense(10, activation='relu'),\n",
        "    tf.keras.layers.Dense(100, activation='relu'),\n",
        "    tf.keras.layers.Dense(1)\n",
        "])\n",
        "\n",
        "model_3.compile(loss = tf.keras.losses.mae,\n",
        "                optimizer = tf.keras.optimizers.Adam(),\n",
        "                metrics = [\"mae\"])\n",
        "\n",
        "history_model_3 = model_3.fit(x_train_scaled, y_train, verbose =0, epochs = 250,validation_data = (x_test_scaled,y_test))\n"
      ],
      "metadata": {
        "id": "jWQs-VeWCYtF"
      },
      "execution_count": 23,
      "outputs": []
    },
    {
      "cell_type": "code",
      "source": [
        "model_3_test_performance = model_3.evaluate(x_test_scaled,y_test)[0]"
      ],
      "metadata": {
        "colab": {
          "base_uri": "https://localhost:8080/"
        },
        "id": "wyipCmmx9_AT",
        "outputId": "ac6703bc-44fa-40b2-c321-0756e519d09e"
      },
      "execution_count": 24,
      "outputs": [
        {
          "output_type": "stream",
          "name": "stdout",
          "text": [
            "4/4 [==============================] - 0s 6ms/step - loss: 28310.1094 - mae: 28310.1094\n"
          ]
        }
      ]
    },
    {
      "cell_type": "code",
      "source": [
        "model_3_train_performance = model_3.evaluate(x_train_scaled,y_train)[0]"
      ],
      "metadata": {
        "colab": {
          "base_uri": "https://localhost:8080/"
        },
        "id": "jG6ixzJVc45j",
        "outputId": "55e71d86-8b12-40ac-ae8e-f30505e97f8c"
      },
      "execution_count": 25,
      "outputs": [
        {
          "output_type": "stream",
          "name": "stdout",
          "text": [
            "29/29 [==============================] - 0s 4ms/step - loss: 23905.6660 - mae: 23905.6660\n"
          ]
        }
      ]
    },
    {
      "cell_type": "code",
      "source": [
        "# Get the list of validation losses\n",
        "val_losses = history_model_3.history['val_loss']\n",
        "\n",
        "# Find the epoch with the lowest validation loss\n",
        "min_loss_epoch = np.argmin(val_losses)\n",
        "\n",
        "print(\"The epoch with the lowest validation loss is epoch\", min_loss_epoch + 1)"
      ],
      "metadata": {
        "colab": {
          "base_uri": "https://localhost:8080/"
        },
        "id": "szoVP2p0AgbR",
        "outputId": "4adf3a34-ff4c-4477-e92c-e103c4d14960"
      },
      "execution_count": 26,
      "outputs": [
        {
          "output_type": "stream",
          "name": "stdout",
          "text": [
            "The epoch with the lowest validation loss is epoch 250\n"
          ]
        }
      ]
    },
    {
      "cell_type": "code",
      "source": [
        "# Create a figure\n",
        "plt.figure(figsize=(10,5))\n",
        "\n",
        "# Plot training accuracy\n",
        "plt.plot(history_model_3.history['mae'])\n",
        "# Plot validation accuracy\n",
        "plt.plot(history_model_3.history['val_mae'])\n",
        "\n",
        "# Set title and labels\n",
        "plt.title('Model accuracy')\n",
        "plt.ylabel('Accuracy')\n",
        "plt.xlabel('Epoch')\n",
        "plt.legend(['Train', 'Validation'], loc='upper left')\n",
        "\n",
        "# Show the plot\n",
        "plt.show()\n"
      ],
      "metadata": {
        "colab": {
          "base_uri": "https://localhost:8080/",
          "height": 487
        },
        "id": "tWxM1cLM-phb",
        "outputId": "2582357f-cc24-41a3-90f4-738d149a4123"
      },
      "execution_count": 27,
      "outputs": [
        {
          "output_type": "display_data",
          "data": {
            "text/plain": [
              "<Figure size 1000x500 with 1 Axes>"
            ],
            "image/png": "[encoded data removed]"
          },
          "metadata": {}
        }
      ]
    },
    {
      "cell_type": "markdown",
      "source": [
        "#Implementing a stop once the model does not improve more than 55 in 10 epochs and a changing learning rate\n",
        "\n",
        "\n",
        "\n"
      ],
      "metadata": {
        "id": "2VOE8R04f-4i"
      }
    },
    {
      "cell_type": "code",
      "source": [
        "from tensorflow.keras.callbacks import EarlyStopping\n",
        "\n",
        "from keras.callbacks import LearningRateScheduler\n",
        "import math\n",
        "\n",
        "def step_decay(epoch):\n",
        "    initial_lrate = 0.05\n",
        "    drop = 0.5\n",
        "    epochs_drop = 30.0\n",
        "    lrate = initial_lrate * math.pow(drop, math.floor((1+epoch)/epochs_drop))\n",
        "    return lrate\n",
        "\n",
        "lrate = LearningRateScheduler(step_decay)\n",
        "\n",
        "# Create early stopping callback\n",
        "early_stopping = EarlyStopping(monitor='val_loss', patience=10, min_delta= 10)\n",
        "\n",
        "\n",
        "\n",
        "import numpy as np\n",
        "model_4 = tf.keras.Sequential([\n",
        "    tf.keras.layers.Dense(8, activation='relu'),\n",
        "    tf.keras.layers.Dense(10, activation='relu'),\n",
        "    tf.keras.layers.Dense(100, activation='relu'),\n",
        "    tf.keras.layers.Dense(1)\n",
        "])\n",
        "\n",
        "# Use Adam optimizer, which is generally a good starting point\n",
        "model_4.compile(loss = tf.keras.losses.mae,\n",
        "                optimizer = tf.keras.optimizers.Adam(),\n",
        "                metrics = [\"mae\"])\n",
        "\n",
        "\n",
        "\n",
        "history_model_4 = model_4.fit(x_train_scaled, y_train, verbose =0, epochs = 250,validation_data = (x_test_scaled,y_test), callbacks = [lrate])"
      ],
      "metadata": {
        "id": "KNZw15Wv_aeD"
      },
      "execution_count": 28,
      "outputs": []
    },
    {
      "cell_type": "code",
      "source": [
        "# Create a figure\n",
        "plt.figure(figsize=(10,5))\n",
        "\n",
        "# Plot training accuracy\n",
        "plt.plot(history_model_4.history['mae'])\n",
        "# Plot validation accuracy\n",
        "plt.plot(history_model_4.history['val_mae'])\n",
        "\n",
        "# Set title and labels\n",
        "plt.title('Model accuracy')\n",
        "plt.ylabel('Accuracy')\n",
        "plt.xlabel('Epoch')\n",
        "plt.legend(['Train', 'Validation'], loc='upper left')\n",
        "\n",
        "# Show the plot\n",
        "plt.show()\n"
      ],
      "metadata": {
        "colab": {
          "base_uri": "https://localhost:8080/",
          "height": 487
        },
        "id": "CcZI1XKyR5zJ",
        "outputId": "7ee189c2-3966-456b-a7ed-1d406771ece4"
      },
      "execution_count": 29,
      "outputs": [
        {
          "output_type": "display_data",
          "data": {
            "text/plain": [
              "<Figure size 1000x500 with 1 Axes>"
            ],
            "image/png": "[encoded data removed]"
          },
          "metadata": {}
        }
      ]
    },
    {
      "cell_type": "code",
      "source": [
        "model_4_train_performance = model_4.evaluate(x_train_scaled,y_train)[0]\n",
        "model_4_train_performance"
      ],
      "metadata": {
        "colab": {
          "base_uri": "https://localhost:8080/"
        },
        "id": "BXnSih5-dDI_",
        "outputId": "1ad70b32-8014-4f29-888f-954e9dfe4b41"
      },
      "execution_count": 30,
      "outputs": [
        {
          "output_type": "stream",
          "name": "stdout",
          "text": [
            "29/29 [==============================] - 0s 2ms/step - loss: 22400.5098 - mae: 22400.5098\n"
          ]
        },
        {
          "output_type": "execute_result",
          "data": {
            "text/plain": [
              "22400.509765625"
            ]
          },
          "metadata": {},
          "execution_count": 30
        }
      ]
    },
    {
      "cell_type": "code",
      "source": [
        "model_4_test_performance = model_4.evaluate(x_test_scaled,y_test)[0]\n",
        "model_4_test_performance"
      ],
      "metadata": {
        "colab": {
          "base_uri": "https://localhost:8080/"
        },
        "id": "RTr4KTn3dEOi",
        "outputId": "fc127b24-038a-4ae0-8433-bae420801560"
      },
      "execution_count": 31,
      "outputs": [
        {
          "output_type": "stream",
          "name": "stdout",
          "text": [
            "4/4 [==============================] - 0s 4ms/step - loss: 27043.3008 - mae: 27043.3008\n"
          ]
        },
        {
          "output_type": "execute_result",
          "data": {
            "text/plain": [
              "27043.30078125"
            ]
          },
          "metadata": {},
          "execution_count": 31
        }
      ]
    },
    {
      "cell_type": "code",
      "source": [
        "# Get the list of validation losses\n",
        "val_losses = history_model_4.history['val_loss']\n",
        "\n",
        "# Find the epoch with the lowest validation loss\n",
        "min_loss_epoch = np.argmin(val_losses)\n",
        "\n",
        "print(\"The epoch with the lowest validation loss is epoch\", min_loss_epoch + 1)\n",
        "\n",
        "\n"
      ],
      "metadata": {
        "colab": {
          "base_uri": "https://localhost:8080/"
        },
        "id": "aco2O-CuR-0D",
        "outputId": "fe46b987-3fa7-422c-b3c9-d5274241b85e"
      },
      "execution_count": 32,
      "outputs": [
        {
          "output_type": "stream",
          "name": "stdout",
          "text": [
            "The epoch with the lowest validation loss is epoch 9\n"
          ]
        }
      ]
    },
    {
      "cell_type": "markdown",
      "source": [
        "## Since the validation loss is the lowest at the last epoch It is safe to assume that the validation_loss was slowly going down, thus this justifies the lengthy period of training after the training_loss became way lower than the validation loss\n"
      ],
      "metadata": {
        "id": "_lxZ92mKWWMP"
      }
    },
    {
      "cell_type": "code",
      "source": [
        "training_losses = [model_1_train_performance,model_2_train_performance,model_3_train_performance,model_4_train_performance]\n",
        "\n",
        "lowest_train_loss = np.argmin(training_losses)\n",
        "print(f\"The lowest train loss was exhibited by the model {lowest_train_loss+1} and it was equal to {training_losses[lowest_train_loss]}\")"
      ],
      "metadata": {
        "colab": {
          "base_uri": "https://localhost:8080/"
        },
        "id": "uqQT_LD1TvGp",
        "outputId": "7938fdb9-9816-49f1-a42f-916729a7df38"
      },
      "execution_count": 33,
      "outputs": [
        {
          "output_type": "stream",
          "name": "stdout",
          "text": [
            "The lowest train loss was exhibited by the model 4 and it was equal to 22400.509765625\n"
          ]
        }
      ]
    },
    {
      "cell_type": "code",
      "source": [
        "test_losses = [model_1_test_performance,model_2_test_performance,model_3_test_performance,model_4_test_performance]\n",
        "\n",
        "lowest_test_loss = np.argmin(test_losses)\n",
        "print(f\"The lowest test loss was exhibited by the model {lowest_test_loss+1} and it was equal to {test_losses[lowest_test_loss]}\")"
      ],
      "metadata": {
        "colab": {
          "base_uri": "https://localhost:8080/"
        },
        "id": "v__Agfplde9D",
        "outputId": "66673cff-499c-4cb4-8462-d646da7efbb8"
      },
      "execution_count": 34,
      "outputs": [
        {
          "output_type": "stream",
          "name": "stdout",
          "text": [
            "The lowest test loss was exhibited by the model 4 and it was equal to 27043.30078125\n"
          ]
        }
      ]
    },
    {
      "cell_type": "code",
      "source": [
        "i = 0\n",
        "delta_losses = [model_4_train_performance]\n",
        "for training_loss in training_losses:\n",
        "  delta_losses[i] = training_loss - test_losses[i]\n",
        "lowest_delta = np.argmin(delta_losses)\n",
        "print(f\"the lowest difference in losses between training and testing is present in model {lowest_delta+1} and it is equal to {delta_losses[lowest_delta]}\")\n"
      ],
      "metadata": {
        "colab": {
          "base_uri": "https://localhost:8080/"
        },
        "id": "FXiGDSp8gtWI",
        "outputId": "ea5062df-0a7d-4ba0-d268-0bafbee500c4"
      },
      "execution_count": 35,
      "outputs": [
        {
          "output_type": "stream",
          "name": "stdout",
          "text": [
            "the lowest difference in losses between training and testing is present in model 1 and it is equal to -9612.91796875\n"
          ]
        }
      ]
    },
    {
      "cell_type": "code",
      "source": [
        "test = pd.read_csv(\"test.csv\")\n",
        "test = pd.get_dummies(test.drop(\"Id\", axis =1))\n"
      ],
      "metadata": {
        "id": "8bpJcezljOeA"
      },
      "execution_count": 36,
      "outputs": []
    },
    {
      "cell_type": "code",
      "source": [
        "from sklearn.preprocessing import StandardScaler\n",
        "scaler = StandardScaler()\n",
        "test_data_scaled = scaler.fit_transform(x_train)\n"
      ],
      "metadata": {
        "id": "Nw2rQuMRhkJG"
      },
      "execution_count": 37,
      "outputs": []
    },
    {
      "cell_type": "code",
      "source": [
        "predictions = model_3.predict(test_data_scaled)\n",
        "\n",
        "# Convert predictions to a DataFrame\n",
        "predictions_df = pd.DataFrame(predictions, columns=['Predicted_price'])\n",
        "\n",
        "test_data_with_predictions = test.copy()\n",
        "test_data_with_predictions['Predicted_price'] = predictions_df\n",
        "\n",
        "# Save the combined DataFrame as a CSV file\n",
        "test_data_with_predictions.to_csv('/content/test_data_with_predictions.csv', index=False)\n"
      ],
      "metadata": {
        "colab": {
          "base_uri": "https://localhost:8080/"
        },
        "id": "X8Fxhi7HzyYd",
        "outputId": "3e185bf4-4c75-44e1-82c5-c6c3c418fd5b"
      },
      "execution_count": 38,
      "outputs": [
        {
          "output_type": "stream",
          "name": "stdout",
          "text": [
            "29/29 [==============================] - 0s 2ms/step\n"
          ]
        }
      ]
    },
    {
      "cell_type": "code",
      "source": [
        "above_threshold = (test_data_with_predictions['Predicted_price'] > 250000).sum()\n",
        "print(f\"Number of predicted prices above 250,000: {above_threshold}\")\n"
      ],
      "metadata": {
        "colab": {
          "base_uri": "https://localhost:8080/"
        },
        "id": "d7lFK3zq09hK",
        "outputId": "4f472bde-68bc-4938-bd7a-7f120e3e7ae6"
      },
      "execution_count": 39,
      "outputs": [
        {
          "output_type": "stream",
          "name": "stdout",
          "text": [
            "Number of predicted prices above 250,000: 36\n"
          ]
        }
      ]
    },
    {
      "cell_type": "code",
      "source": [
        "above_250 = test_data_with_predictions[(test_data_with_predictions[\"Predicted_price\"]>250000)]\n",
        "\n",
        "# Checking how many have garage area >700\n",
        "Garage_above_700 = (above_250[\"GarageArea\"]>700).sum()\n",
        "print(f\"There are {Garage_above_700} houses costing 250,000 and above with a garage area above 700\")"
      ],
      "metadata": {
        "colab": {
          "base_uri": "https://localhost:8080/"
        },
        "id": "5beM8Acu1YpB",
        "outputId": "9079f48a-9863-4ca3-f31d-2c558505a48c"
      },
      "execution_count": 40,
      "outputs": [
        {
          "output_type": "stream",
          "name": "stdout",
          "text": [
            "There are 1 houses costing 250,000 and above with a garage area above 700\n"
          ]
        }
      ]
    },
    {
      "cell_type": "code",
      "source": [
        "# Checking how many have GrLivArea area >2000\n",
        "GrLivArea_above_2000= (above_250[\"GrLivArea\"]>2000).sum()\n",
        "print(f\"There are {GrLivArea_above_2000} houses costing 250,000 and above with a General living area above 2000\")"
      ],
      "metadata": {
        "colab": {
          "base_uri": "https://localhost:8080/"
        },
        "id": "SjFPiGiQ18bL",
        "outputId": "e35b7c4f-b228-4785-ed86-b0f02f32bd79"
      },
      "execution_count": 41,
      "outputs": [
        {
          "output_type": "stream",
          "name": "stdout",
          "text": [
            "There are 4 houses costing 250,000 and above with a General living area above 2000\n"
          ]
        }
      ]
    },
    {
      "cell_type": "code",
      "source": [
        "# Checking how many have OverallQual area >8\n",
        "OverallQual_above_8 = (above_250[\"OverallQual\"]>8).sum()\n",
        "print(f\"There are {OverallQual_above_8} houses costing 250,000 and above with a overall quality above 8\")"
      ],
      "metadata": {
        "colab": {
          "base_uri": "https://localhost:8080/"
        },
        "id": "T3VzaWzB3RPc",
        "outputId": "8ba9f982-c135-47c6-cfe8-f84b3376acf6"
      },
      "execution_count": 42,
      "outputs": [
        {
          "output_type": "stream",
          "name": "stdout",
          "text": [
            "There are 0 houses costing 250,000 and above with a overall quality above 8\n"
          ]
        }
      ]
    },
    {
      "cell_type": "markdown",
      "source": [
        "#Building a extra model using a different loss function\n",
        "\n"
      ],
      "metadata": {
        "id": "8YJ-TKU_OOE9"
      }
    },
    {
      "cell_type": "code",
      "source": [
        "\n",
        "model_5 = tf.keras.Sequential([\n",
        "    tf.keras.layers.Dense(8, activation='relu'),\n",
        "    tf.keras.layers.Dense(10, activation='relu'),\n",
        "    tf.keras.layers.Dense(100, activation='relu'),\n",
        "    tf.keras.layers.Dense(1)\n",
        "])\n",
        "\n",
        "# Compiling the model with a different loss function - Mean Squared Error\n",
        "model_5.compile(loss = tf.keras.losses.MeanSquaredError(),\n",
        "                optimizer = tf.keras.optimizers.Adam(),\n",
        "                metrics = [\"mae\"])\n",
        "\n",
        "# Fitting the model\n",
        "history_model_5 = model_5.fit(x_train_scaled, y_train, verbose =0, epochs = 250,validation_data = (x_test_scaled,y_test))\n"
      ],
      "metadata": {
        "id": "GWEhBg1X3qme"
      },
      "execution_count": 44,
      "outputs": []
    },
    {
      "cell_type": "code",
      "source": [
        "# Create a figure\n",
        "plt.figure(figsize=(10,5))\n",
        "\n",
        "# Plot training accuracy\n",
        "plt.plot(history_model_5.history['mae'])\n",
        "# Plot validation accuracy\n",
        "plt.plot(history_model_5.history['val_mae'])\n",
        "\n",
        "# Set title and labels2Validation'], loc='upper left')\n",
        "\n",
        "# Show the plot\n",
        "plt.show()"
      ],
      "metadata": {
        "colab": {
          "base_uri": "https://localhost:8080/",
          "height": 445
        },
        "id": "6GheInlE3ucG",
        "outputId": "71727e29-95d3-41c7-fa80-b586b0399911"
      },
      "execution_count": 45,
      "outputs": [
        {
          "output_type": "display_data",
          "data": {
            "text/plain": [
              "<Figure size 1000x500 with 1 Axes>"
            ],
            "image/png": "[encoded data removed]"
          },
          "metadata": {}
        }
      ]
    },
    {
      "cell_type": "code",
      "source": [],
      "metadata": {
        "id": "S8I_pnr5TwN1"
      },
      "execution_count": 45,
      "outputs": []
    }
  ]
}